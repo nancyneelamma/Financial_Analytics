{
 "cells": [
  {
   "cell_type": "code",
   "execution_count": 1,
   "metadata": {
    "id": "ndw6lscnGxgh"
   },
   "outputs": [],
   "source": [
    "# Importing Libraries\n",
    "\n",
    "import pandas as pd\n",
    "import numpy as np\n",
    "import matplotlib.pyplot as plt\n",
    "import seaborn as sns\n",
    "import scipy.stats as stats"
   ]
  },
  {
   "cell_type": "code",
   "execution_count": 2,
   "metadata": {
    "id": "FsffZUt1I7ON"
   },
   "outputs": [],
   "source": [
    "# Reading Dataset\n",
    "\n",
    "data = pd.read_csv('Financial Analytics data.csv')"
   ]
  },
  {
   "cell_type": "code",
   "execution_count": 3,
   "metadata": {
    "colab": {
     "base_uri": "https://localhost:8080/",
     "height": 363
    },
    "id": "PrFZnFWkI7RG",
    "outputId": "71827eae-bcda-46cf-836f-aa4f78c5e26c"
   },
   "outputs": [
    {
     "data": {
      "text/html": [
       "<div>\n",
       "<style scoped>\n",
       "    .dataframe tbody tr th:only-of-type {\n",
       "        vertical-align: middle;\n",
       "    }\n",
       "\n",
       "    .dataframe tbody tr th {\n",
       "        vertical-align: top;\n",
       "    }\n",
       "\n",
       "    .dataframe thead th {\n",
       "        text-align: right;\n",
       "    }\n",
       "</style>\n",
       "<table border=\"1\" class=\"dataframe\">\n",
       "  <thead>\n",
       "    <tr style=\"text-align: right;\">\n",
       "      <th></th>\n",
       "      <th>S.No.</th>\n",
       "      <th>Name</th>\n",
       "      <th>Mar Cap - Crore</th>\n",
       "      <th>Sales Qtr - Crore</th>\n",
       "    </tr>\n",
       "  </thead>\n",
       "  <tbody>\n",
       "    <tr>\n",
       "      <th>0</th>\n",
       "      <td>1</td>\n",
       "      <td>Reliance Inds.</td>\n",
       "      <td>583436.72</td>\n",
       "      <td>99810.00</td>\n",
       "    </tr>\n",
       "    <tr>\n",
       "      <th>1</th>\n",
       "      <td>2</td>\n",
       "      <td>TCS</td>\n",
       "      <td>563709.84</td>\n",
       "      <td>30904.00</td>\n",
       "    </tr>\n",
       "    <tr>\n",
       "      <th>2</th>\n",
       "      <td>3</td>\n",
       "      <td>HDFC Bank</td>\n",
       "      <td>482953.59</td>\n",
       "      <td>20581.27</td>\n",
       "    </tr>\n",
       "    <tr>\n",
       "      <th>3</th>\n",
       "      <td>4</td>\n",
       "      <td>ITC</td>\n",
       "      <td>320985.27</td>\n",
       "      <td>9772.02</td>\n",
       "    </tr>\n",
       "    <tr>\n",
       "      <th>4</th>\n",
       "      <td>5</td>\n",
       "      <td>H D F C</td>\n",
       "      <td>289497.37</td>\n",
       "      <td>16840.51</td>\n",
       "    </tr>\n",
       "    <tr>\n",
       "      <th>5</th>\n",
       "      <td>6</td>\n",
       "      <td>Hind. Unilever</td>\n",
       "      <td>288265.26</td>\n",
       "      <td>8590.00</td>\n",
       "    </tr>\n",
       "    <tr>\n",
       "      <th>6</th>\n",
       "      <td>7</td>\n",
       "      <td>Maruti Suzuki</td>\n",
       "      <td>263493.81</td>\n",
       "      <td>19283.20</td>\n",
       "    </tr>\n",
       "    <tr>\n",
       "      <th>7</th>\n",
       "      <td>8</td>\n",
       "      <td>Infosys</td>\n",
       "      <td>248320.35</td>\n",
       "      <td>17794.00</td>\n",
       "    </tr>\n",
       "    <tr>\n",
       "      <th>8</th>\n",
       "      <td>9</td>\n",
       "      <td>O N G C</td>\n",
       "      <td>239981.50</td>\n",
       "      <td>22995.88</td>\n",
       "    </tr>\n",
       "    <tr>\n",
       "      <th>9</th>\n",
       "      <td>10</td>\n",
       "      <td>St Bk of India</td>\n",
       "      <td>232763.33</td>\n",
       "      <td>57014.08</td>\n",
       "    </tr>\n",
       "  </tbody>\n",
       "</table>\n",
       "</div>"
      ],
      "text/plain": [
       "   S.No.            Name  Mar Cap - Crore  Sales Qtr - Crore\n",
       "0      1  Reliance Inds.        583436.72           99810.00\n",
       "1      2             TCS        563709.84           30904.00\n",
       "2      3       HDFC Bank        482953.59           20581.27\n",
       "3      4             ITC        320985.27            9772.02\n",
       "4      5         H D F C        289497.37           16840.51\n",
       "5      6  Hind. Unilever        288265.26            8590.00\n",
       "6      7   Maruti Suzuki        263493.81           19283.20\n",
       "7      8         Infosys        248320.35           17794.00\n",
       "8      9         O N G C        239981.50           22995.88\n",
       "9     10  St Bk of India        232763.33           57014.08"
      ]
     },
     "execution_count": 3,
     "metadata": {},
     "output_type": "execute_result"
    }
   ],
   "source": [
    "# Taking look at the data by Top 10 rows\n",
    "\n",
    "data.head(10)"
   ]
  },
  {
   "cell_type": "code",
   "execution_count": 4,
   "metadata": {
    "colab": {
     "base_uri": "https://localhost:8080/"
    },
    "id": "bZlPk_dDI7T2",
    "outputId": "3079a7cb-199e-44ef-9917-954b80c89851"
   },
   "outputs": [
    {
     "data": {
      "text/plain": [
       "(488, 4)"
      ]
     },
     "execution_count": 4,
     "metadata": {},
     "output_type": "execute_result"
    }
   ],
   "source": [
    "# The shape of the dataframe\n",
    "\n",
    "data.shape"
   ]
  },
  {
   "cell_type": "code",
   "execution_count": 5,
   "metadata": {
    "colab": {
     "base_uri": "https://localhost:8080/"
    },
    "id": "f3Qt1fM3I7aT",
    "outputId": "77b706ee-2f75-4720-ae29-0932a3c1d9c2"
   },
   "outputs": [
    {
     "data": {
      "text/plain": [
       "RangeIndex(start=0, stop=488, step=1)"
      ]
     },
     "execution_count": 5,
     "metadata": {},
     "output_type": "execute_result"
    }
   ],
   "source": [
    "# The index of the dataframe\n",
    "\n",
    "data.index"
   ]
  },
  {
   "cell_type": "code",
   "execution_count": 6,
   "metadata": {
    "colab": {
     "base_uri": "https://localhost:8080/"
    },
    "id": "q9O7D3RSI7cv",
    "outputId": "d34224c1-c278-455a-b5f0-ac2b743b338a"
   },
   "outputs": [
    {
     "data": {
      "text/plain": [
       "Index(['S.No.', 'Name', 'Mar Cap - Crore', 'Sales Qtr - Crore'], dtype='object')"
      ]
     },
     "execution_count": 6,
     "metadata": {},
     "output_type": "execute_result"
    }
   ],
   "source": [
    "# The column names used\n",
    "\n",
    "data.columns"
   ]
  },
  {
   "cell_type": "code",
   "execution_count": 7,
   "metadata": {
    "colab": {
     "base_uri": "https://localhost:8080/"
    },
    "id": "YjNrzzlmI7fZ",
    "outputId": "8965260b-3985-469f-dde0-b3eea990e0d5"
   },
   "outputs": [
    {
     "name": "stdout",
     "output_type": "stream",
     "text": [
      "['S.No.', 'Name', 'Mar Cap - Crore', 'Sales Qtr - Crore']\n"
     ]
    }
   ],
   "source": [
    "# Assign all columns to a variable list\n",
    "\n",
    "column = list(data)\n",
    "print(column)"
   ]
  },
  {
   "cell_type": "code",
   "execution_count": 8,
   "metadata": {
    "colab": {
     "base_uri": "https://localhost:8080/"
    },
    "id": "qdl1U4y6I7iO",
    "outputId": "17bac93f-b822-4610-db57-3273da0316dc"
   },
   "outputs": [
    {
     "name": "stdout",
     "output_type": "stream",
     "text": [
      "     S.No.             Name  Mar Cap - Crore  Sales Qtr - Crore\n",
      "0        1   Reliance Inds.        583436.72           99810.00\n",
      "1        2              TCS        563709.84           30904.00\n",
      "2        3        HDFC Bank        482953.59           20581.27\n",
      "3        4              ITC        320985.27            9772.02\n",
      "4        5          H D F C        289497.37           16840.51\n",
      "..     ...              ...              ...                ...\n",
      "483    496  Lak. Vilas Bank          3029.57             790.17\n",
      "484    497            NOCIL          3026.26             249.27\n",
      "485    498    Orient Cement          3024.32             511.53\n",
      "486    499  Natl.Fertilizer          3017.07            2840.75\n",
      "487    500        L T Foods              NaN                NaN\n",
      "\n",
      "[488 rows x 4 columns]\n"
     ]
    }
   ],
   "source": [
    "# Copying the dataset into another variable, to use and make changes, by not affecting the original dataset\n",
    "\n",
    "capdata = data.copy()\n",
    "print(capdata)"
   ]
  },
  {
   "cell_type": "code",
   "execution_count": 9,
   "metadata": {
    "id": "3PFzzk_PI7k6"
   },
   "outputs": [],
   "source": [
    "# Removig irrelevant columns\n",
    "\n",
    "col = ['S.No.',]\n",
    "dropcol = capdata.drop(col, axis=1,inplace=True)"
   ]
  },
  {
   "cell_type": "code",
   "execution_count": 10,
   "metadata": {
    "colab": {
     "base_uri": "https://localhost:8080/",
     "height": 206
    },
    "id": "F0J2ndXRI7n4",
    "outputId": "26ebeea2-eba9-4b6a-9435-0735a070d3af"
   },
   "outputs": [
    {
     "data": {
      "text/html": [
       "<div>\n",
       "<style scoped>\n",
       "    .dataframe tbody tr th:only-of-type {\n",
       "        vertical-align: middle;\n",
       "    }\n",
       "\n",
       "    .dataframe tbody tr th {\n",
       "        vertical-align: top;\n",
       "    }\n",
       "\n",
       "    .dataframe thead th {\n",
       "        text-align: right;\n",
       "    }\n",
       "</style>\n",
       "<table border=\"1\" class=\"dataframe\">\n",
       "  <thead>\n",
       "    <tr style=\"text-align: right;\">\n",
       "      <th></th>\n",
       "      <th>Name</th>\n",
       "      <th>Mar Cap - Crore</th>\n",
       "      <th>Sales Qtr - Crore</th>\n",
       "    </tr>\n",
       "  </thead>\n",
       "  <tbody>\n",
       "    <tr>\n",
       "      <th>0</th>\n",
       "      <td>Reliance Inds.</td>\n",
       "      <td>583436.72</td>\n",
       "      <td>99810.00</td>\n",
       "    </tr>\n",
       "    <tr>\n",
       "      <th>1</th>\n",
       "      <td>TCS</td>\n",
       "      <td>563709.84</td>\n",
       "      <td>30904.00</td>\n",
       "    </tr>\n",
       "    <tr>\n",
       "      <th>2</th>\n",
       "      <td>HDFC Bank</td>\n",
       "      <td>482953.59</td>\n",
       "      <td>20581.27</td>\n",
       "    </tr>\n",
       "    <tr>\n",
       "      <th>3</th>\n",
       "      <td>ITC</td>\n",
       "      <td>320985.27</td>\n",
       "      <td>9772.02</td>\n",
       "    </tr>\n",
       "    <tr>\n",
       "      <th>4</th>\n",
       "      <td>H D F C</td>\n",
       "      <td>289497.37</td>\n",
       "      <td>16840.51</td>\n",
       "    </tr>\n",
       "  </tbody>\n",
       "</table>\n",
       "</div>"
      ],
      "text/plain": [
       "             Name  Mar Cap - Crore  Sales Qtr - Crore\n",
       "0  Reliance Inds.        583436.72           99810.00\n",
       "1             TCS        563709.84           30904.00\n",
       "2       HDFC Bank        482953.59           20581.27\n",
       "3             ITC        320985.27            9772.02\n",
       "4         H D F C        289497.37           16840.51"
      ]
     },
     "execution_count": 10,
     "metadata": {},
     "output_type": "execute_result"
    }
   ],
   "source": [
    "# Getting the top rows after dropping the irrelavent columns\n",
    "\n",
    "capdata.head()"
   ]
  },
  {
   "cell_type": "code",
   "execution_count": 11,
   "metadata": {
    "colab": {
     "base_uri": "https://localhost:8080/"
    },
    "id": "X2x8hauaI7qa",
    "outputId": "f9aa7cde-3adf-4858-c2ee-9c34c160edf5"
   },
   "outputs": [
    {
     "data": {
      "text/plain": [
       "Name                  0\n",
       "Mar Cap - Crore       9\n",
       "Sales Qtr - Crore    29\n",
       "dtype: int64"
      ]
     },
     "execution_count": 11,
     "metadata": {},
     "output_type": "execute_result"
    }
   ],
   "source": [
    "# Check null values\n",
    "\n",
    "capdata.isnull().sum()"
   ]
  },
  {
   "cell_type": "code",
   "execution_count": 12,
   "metadata": {
    "id": "yD3ZGgKShXTJ"
   },
   "outputs": [],
   "source": [
    "# Replace null values when 'Sales Qtr - Crore' is null with is null and 'Mar Cap - Crore'is not null\n",
    "\n",
    "mask = (capdata['Sales Qtr - Crore']).isnull() & (capdata['Mar Cap - Crore']).notnull()\n",
    "\n",
    "capdata.loc[mask,['Sales Qtr - Crore']] = 0\n"
   ]
  },
  {
   "cell_type": "code",
   "execution_count": 13,
   "metadata": {
    "colab": {
     "base_uri": "https://localhost:8080/"
    },
    "id": "TF-pwO9jTCuS",
    "outputId": "5ea16e89-effb-4f9f-c7df-5033d38d6bea"
   },
   "outputs": [
    {
     "data": {
      "text/plain": [
       "Name                 0\n",
       "Mar Cap - Crore      9\n",
       "Sales Qtr - Crore    9\n",
       "dtype: int64"
      ]
     },
     "execution_count": 13,
     "metadata": {},
     "output_type": "execute_result"
    }
   ],
   "source": [
    "# Check null values after replacing sales-qtr with 0\n",
    "\n",
    "capdata.isnull().sum()"
   ]
  },
  {
   "cell_type": "code",
   "execution_count": 14,
   "metadata": {
    "colab": {
     "base_uri": "https://localhost:8080/"
    },
    "id": "bYuxOTjKihsA",
    "outputId": "f05e46f3-4a75-4030-cc33-ab6da53ee9f4"
   },
   "outputs": [
    {
     "data": {
      "text/plain": [
       "(488, 3)"
      ]
     },
     "execution_count": 14,
     "metadata": {},
     "output_type": "execute_result"
    }
   ],
   "source": [
    "# Check shape\n",
    "\n",
    "capdata.shape"
   ]
  },
  {
   "cell_type": "code",
   "execution_count": 15,
   "metadata": {
    "id": "eCXZoSOqb45x"
   },
   "outputs": [],
   "source": [
    "# Drop code where both 'Mar Cap - Crore', 'Sales Qtr - Crore' is null\n",
    "\n",
    "capdata.dropna(subset=['Mar Cap - Crore', 'Sales Qtr - Crore'],how='all',inplace=True)"
   ]
  },
  {
   "cell_type": "code",
   "execution_count": 16,
   "metadata": {
    "colab": {
     "base_uri": "https://localhost:8080/"
    },
    "id": "e6LaWJNXbY6O",
    "outputId": "0c800e7d-f876-4cd2-8b11-76f2326afc5e"
   },
   "outputs": [
    {
     "data": {
      "text/plain": [
       "(479, 3)"
      ]
     },
     "execution_count": 16,
     "metadata": {},
     "output_type": "execute_result"
    }
   ],
   "source": [
    "capdata.shape"
   ]
  },
  {
   "cell_type": "code",
   "execution_count": 17,
   "metadata": {
    "colab": {
     "base_uri": "https://localhost:8080/"
    },
    "id": "ymqSQH84I74F",
    "outputId": "e4a2445d-aff4-4780-ba69-4e76447dc67b"
   },
   "outputs": [
    {
     "data": {
      "text/plain": [
       "Name                 0\n",
       "Mar Cap - Crore      0\n",
       "Sales Qtr - Crore    0\n",
       "dtype: int64"
      ]
     },
     "execution_count": 17,
     "metadata": {},
     "output_type": "execute_result"
    }
   ],
   "source": [
    "capdata.isnull().sum()"
   ]
  },
  {
   "cell_type": "code",
   "execution_count": 18,
   "metadata": {
    "colab": {
     "base_uri": "https://localhost:8080/"
    },
    "id": "4dJi5WUXI76t",
    "outputId": "1c9b9eb1-ce59-41c2-988a-420a8b392fb8"
   },
   "outputs": [
    {
     "name": "stdout",
     "output_type": "stream",
     "text": [
      "0      False\n",
      "1      False\n",
      "2      False\n",
      "3      False\n",
      "4      False\n",
      "       ...  \n",
      "482    False\n",
      "483    False\n",
      "484    False\n",
      "485    False\n",
      "486    False\n",
      "Length: 479, dtype: bool\n"
     ]
    }
   ],
   "source": [
    "# Check Duplicates\n",
    "\n",
    "duplicate = capdata.duplicated()\n",
    "print(duplicate)"
   ]
  },
  {
   "cell_type": "code",
   "execution_count": 19,
   "metadata": {
    "colab": {
     "base_uri": "https://localhost:8080/"
    },
    "id": "KTx1ZybvjEcY",
    "outputId": "c184869d-0694-42bd-ff04-4f4b763ffa30"
   },
   "outputs": [
    {
     "name": "stdout",
     "output_type": "stream",
     "text": [
      "<class 'pandas.core.frame.DataFrame'>\n",
      "Int64Index: 479 entries, 0 to 486\n",
      "Data columns (total 3 columns):\n",
      " #   Column             Non-Null Count  Dtype  \n",
      "---  ------             --------------  -----  \n",
      " 0   Name               479 non-null    object \n",
      " 1   Mar Cap - Crore    479 non-null    float64\n",
      " 2   Sales Qtr - Crore  479 non-null    float64\n",
      "dtypes: float64(2), object(1)\n",
      "memory usage: 15.0+ KB\n"
     ]
    }
   ],
   "source": [
    "# Display entire information of the dataframe\n",
    "\n",
    "capdata.info()"
   ]
  },
  {
   "cell_type": "code",
   "execution_count": 20,
   "metadata": {
    "colab": {
     "base_uri": "https://localhost:8080/",
     "height": 564
    },
    "id": "_iXGq5CVXTpl",
    "outputId": "59327dd2-0779-4aae-bcd3-9880539837cc"
   },
   "outputs": [
    {
     "data": {
      "image/png": "[encoded data removed]",
      "text/plain": [
       "<Figure size 720x432 with 1 Axes>"
      ]
     },
     "metadata": {
      "needs_background": "light"
     },
     "output_type": "display_data"
    }
   ],
   "source": [
    "# Identifying outliers or anomalies in the data for Market Capitalization\n",
    "plt.figure(figsize=(10,6))\n",
    "sns.boxplot(data=capdata, x='Mar Cap - Crore')\n",
    "plt.title('Identifying outliers or anomalies for Market Capitalization')\n",
    "plt.xlabel('Market Capitalization in Crores')\n",
    "plt.show()"
   ]
  },
  {
   "cell_type": "code",
   "execution_count": 21,
   "metadata": {
    "colab": {
     "base_uri": "https://localhost:8080/"
    },
    "id": "swrody4CbMWY",
    "outputId": "c0fc8a1b-5781-410e-9a2e-4b5befb439ae"
   },
   "outputs": [],
   "source": [
    "# Removing Anomalies for Market Capitalization data\n",
    "\n",
    "# Calculate the first quartile (Q1) and third quartile (Q3)\n",
    "Q1 = capdata['Mar Cap - Crore'].quantile(0.25)\n",
    "Q3 = capdata['Mar Cap - Crore'].quantile(0.75)\n",
    "\n",
    "# Calculate the interquartile range (IQR)\n",
    "IQR = Q3-Q1\n",
    "\n",
    "# Calculatethe lower and upper bounds to identify outliers\n",
    "\n",
    "lower_bound = Q1 - 1.5 * IQR\n",
    "upper_bound= Q3 + 1.5 * IQR\n",
    "\n",
    "# Remove outliers\n",
    "\n",
    "capdata1 = capdata[( capdata['Mar Cap - Crore'] >= lower_bound )&(capdata['Mar Cap - Crore'] <= upper_bound )]"
   ]
  },
  {
   "cell_type": "code",
   "execution_count": 22,
   "metadata": {
    "colab": {
     "base_uri": "https://localhost:8080/",
     "height": 564
    },
    "id": "-MXTtB1mXz-w",
    "outputId": "b8faa7ed-5e74-4915-aadd-2501c2a0378d"
   },
   "outputs": [
    {
     "data": {
      "image/png": "[encoded data removed]",
      "text/plain": [
       "<Figure size 720x432 with 1 Axes>"
      ]
     },
     "metadata": {
      "needs_background": "light"
     },
     "output_type": "display_data"
    }
   ],
   "source": [
    "# Identifying outliers or anomalies in the data for Sales Quarterly\n",
    "plt.figure(figsize=(10,6))\n",
    "sns.boxplot(data=capdata, x='Sales Qtr - Crore')\n",
    "plt.title('Identifying outliers or anomalies for Sales Quarterly')\n",
    "plt.xlabel('Sales Quarterly in Crores')\n",
    "plt.show()"
   ]
  },
  {
   "cell_type": "code",
   "execution_count": 23,
   "metadata": {
    "colab": {
     "base_uri": "https://localhost:8080/"
    },
    "id": "UCBDbW2qYrLp",
    "outputId": "fabf819f-d140-4d77-9a90-aa637c22f2ee"
   },
   "outputs": [],
   "source": [
    "# Removing Anomalies for Sales Quarterly data\n",
    "\n",
    "# Calculate the first quartile (Q1) and third quartile (Q3)\n",
    "Q1 = capdata['Sales Qtr - Crore'].quantile(0.25)\n",
    "Q3 = capdata['Sales Qtr - Crore'].quantile(0.75)\n",
    "\n",
    "# Calculate the interquartile range (IQR)\n",
    "IQR = Q3-Q1\n",
    "\n",
    "# Calculatethe lower and upper bounds to identify outliers\n",
    "\n",
    "lower_bound = Q1 - 1.5 * IQR\n",
    "upper_bound= Q3 + 1.5 * IQR\n",
    "\n",
    "# Remove outliers\n",
    "\n",
    "capdata2 = capdata[(capdata['Sales Qtr - Crore'] >= lower_bound )&(capdata['Sales Qtr - Crore'] <= upper_bound )]"
   ]
  },
  {
   "cell_type": "code",
   "execution_count": 24,
   "metadata": {},
   "outputs": [
    {
     "name": "stdout",
     "output_type": "stream",
     "text": [
      "(479, 3)\n",
      "(416, 3)\n",
      "(413, 3)\n"
     ]
    }
   ],
   "source": [
    "print(capdata.shape)\n",
    "print(capdata1.shape)\n",
    "print(capdata2.shape)"
   ]
  },
  {
   "cell_type": "code",
   "execution_count": 25,
   "metadata": {
    "colab": {
     "base_uri": "https://localhost:8080/",
     "height": 755
    },
    "id": "8FssBvR3jRIF",
    "outputId": "93a1bce2-60a8-4b19-a397-b67c6f87fbb8"
   },
   "outputs": [
    {
     "name": "stdout",
     "output_type": "stream",
     "text": [
      "Mean: 11820.17\n",
      "Meadian: 7814.23\n",
      "Standard Deviation: 10028.58\n",
      "Maximum: 48621.37\n",
      "Minumum: 3017.07\n",
      "Range: 45604.3\n",
      "Quartiles:\n",
      "0.25     4444.2775\n",
      "0.50     7814.2350\n",
      "0.75    15232.2750\n",
      "Name: Mar Cap - Crore, dtype: float64\n"
     ]
    },
    {
     "data": {
      "image/png": "[encoded data removed]",
      "text/plain": [
       "<Figure size 720x432 with 1 Axes>"
      ]
     },
     "metadata": {
      "needs_background": "light"
     },
     "output_type": "display_data"
    }
   ],
   "source": [
    "# Finding Mean, Meadian, Standard Deviation, Maximum, Minumum, Range and of Market Capitalization\n",
    "\n",
    "mar_mean = round(capdata1['Mar Cap - Crore'].mean(),2)\n",
    "mar_median = round(capdata1['Mar Cap - Crore'].median(),2)\n",
    "mar_std = round(capdata1['Mar Cap - Crore'].std(),2)\n",
    "mar_max = round(capdata1['Mar Cap - Crore'].max(),2)\n",
    "mar_min = round(capdata1['Mar Cap - Crore'].min(),2)\n",
    "mar_range = mar_max-mar_min\n",
    "mar_quartiles = capdata1['Mar Cap - Crore'].quantile([0.25,0.5,0.75])\n",
    "\n",
    "print('Mean:',mar_mean)\n",
    "print('Meadian:',mar_median)\n",
    "print('Standard Deviation:',mar_std)\n",
    "print('Maximum:',mar_max)\n",
    "print('Minumum:',mar_min)\n",
    "print('Range:',mar_range)\n",
    "print('Quartiles:')\n",
    "print(mar_quartiles)\n",
    "\n",
    "# Plotting Histogram\n",
    "\n",
    "plt.figure(figsize=(10,6))\n",
    "sns.histplot(data=capdata1['Mar Cap - Crore'],bins=30,color='lightgreen',alpha=0.7)\n",
    "plt.axvline(mar_mean, color = 'Purple',linestyle='--',label='Mean')\n",
    "plt.axvline(mar_median,color='Orange',linestyle='--',label='Median')\n",
    "plt.title('Market Capitalization Distribution')\n",
    "plt.xlabel('Market Capitalization in Crores')\n",
    "plt.ylabel('Frequency')\n",
    "plt.legend()\n",
    "plt.grid(True)\n",
    "plt.show()"
   ]
  },
  {
   "cell_type": "code",
   "execution_count": 26,
   "metadata": {
    "colab": {
     "base_uri": "https://localhost:8080/",
     "height": 755
    },
    "id": "PMbCrgf_jRAi",
    "outputId": "291aa3e7-4e8f-4b5d-c8a8-6d396874591a"
   },
   "outputs": [
    {
     "name": "stdout",
     "output_type": "stream",
     "text": [
      "Mean: 1254.98\n",
      "Meadian: 793.76\n",
      "Standard Deviation: 1207.15\n",
      "Maximum: 5861.04\n",
      "Minumum: 0.0\n",
      "Range: 5861.04\n",
      "Quartiles:\n",
      "0.25     431.21\n",
      "0.50     793.76\n",
      "0.75    1682.97\n",
      "Name: Sales Qtr - Crore, dtype: float64\n"
     ]
    },
    {
     "data": {
      "image/png": "[encoded data removed]",
      "text/plain": [
       "<Figure size 720x432 with 1 Axes>"
      ]
     },
     "metadata": {
      "needs_background": "light"
     },
     "output_type": "display_data"
    }
   ],
   "source": [
    "# Finding Mean, Meadian, Standard Deviation, Maximum, Minumum, Range and of Sales Quarterly\n",
    "\n",
    "sales_mean = round(capdata2['Sales Qtr - Crore'].mean(),2)\n",
    "sales_median = round(capdata2['Sales Qtr - Crore'].median(),2)\n",
    "sales_std = round(capdata2['Sales Qtr - Crore'].std(),2)\n",
    "sales_max = round(capdata2['Sales Qtr - Crore'].max(),2)\n",
    "sales_min = round(capdata2['Sales Qtr - Crore'].min(),2)\n",
    "sales_range = sales_max-sales_min\n",
    "sales_quartiles = capdata2['Sales Qtr - Crore'].quantile([0.25,0.5,0.75])\n",
    "\n",
    "print('Mean:',sales_mean)\n",
    "print('Meadian:',sales_median)\n",
    "print('Standard Deviation:',sales_std)\n",
    "print('Maximum:',sales_max)\n",
    "print('Minumum:',sales_min)\n",
    "print('Range:',sales_range)\n",
    "print('Quartiles:')\n",
    "print(sales_quartiles)\n",
    "\n",
    "# Plotting Histogram\n",
    "\n",
    "plt.figure(figsize=(10,6))\n",
    "sns.histplot(data=capdata2['Sales Qtr - Crore'],bins=30,color='lightgreen',alpha=0.7)\n",
    "plt.axvline(sales_mean, color = 'Purple',linestyle='--',label='Mean')\n",
    "plt.axvline(sales_median,color='Orange',linestyle='--',label='Median')\n",
    "plt.title('Sales Quarterly Distribution')\n",
    "plt.xlabel('Sales Quarterly in Crores')\n",
    "plt.ylabel('Frequency')\n",
    "plt.legend()\n",
    "plt.grid(True)\n",
    "plt.show()"
   ]
  },
  {
   "cell_type": "code",
   "execution_count": 27,
   "metadata": {
    "colab": {
     "base_uri": "https://localhost:8080/",
     "height": 599
    },
    "id": "pAxmz6SQjQ-P",
    "outputId": "0c2bf4ec-0d8c-4eb0-f61f-74656c824ddb"
   },
   "outputs": [
    {
     "name": "stdout",
     "output_type": "stream",
     "text": [
      "Pearson Co-efficient: 0.44508233223432003\n",
      "Spearman Co-efficient: 0.49029853632709747\n"
     ]
    },
    {
     "data": {
      "image/png": "[encoded data removed]",
      "text/plain": [
       "<Figure size 720x432 with 1 Axes>"
      ]
     },
     "metadata": {
      "needs_background": "light"
     },
     "output_type": "display_data"
    }
   ],
   "source": [
    "# Finding correlation between Market Capitalization and Sales Quarterly\n",
    "\n",
    "market_capitalization = capdata1['Mar Cap - Crore']\n",
    "sales_quarterly = capdata2['Sales Qtr - Crore']\n",
    "\n",
    "# Using Pearson and Spearman Methods\n",
    "\n",
    "corr1 = market_capitalization.corr(sales_quarterly, method = 'pearson')\n",
    "corr2 = market_capitalization.corr(sales_quarterly, method = 'spearman')\n",
    "\n",
    "# Printing the values\n",
    "print('Pearson Co-efficient:',corr1)\n",
    "print('Spearman Co-efficient:',corr2)\n",
    "\n",
    "# Plotting Scatter-plot\n",
    "\n",
    "plt.figure(figsize=(10,6))\n",
    "sns.scatterplot(x=market_capitalization,y=sales_quarterly,color='green', alpha=0.7)\n",
    "plt.title('Correlation Between Market Capitalization and Sales Quarterly')\n",
    "plt.xlabel('Market Capitalization in Crores')\n",
    "plt.ylabel('Sales Quarterly in Crores')\n",
    "plt.show()"
   ]
  },
  {
   "cell_type": "markdown",
   "metadata": {
    "id": "ZznsJbSWPaQd"
   },
   "source": [
    "**Insights**\n",
    "\n",
    "**Market Capitalization**\n",
    "\n",
    "* The mean market capitalization for companies in the dataset is approximately 11,820.17 crores, while the median is 7,814.23 crores. This suggests that the distribution of market capitalization values is slightly right-skewed, with the mean being greater than the median. It indicates that there are companies with relatively higher market capitalizations that are influencing the mean.\n",
    "* The standard deviation of 10,028.58 crores indicates that there is significant diversity in market capitalization among the companies in the dataset. Some companies may have market capitalizations significantly higher or lower than the average.\n",
    "* The range of market capitalization is 45,604.3 crores. This indicates the extent of variation in market capitalization among companies, ranging from relatively small to large market values.\n",
    "* The first quartile (25th percentile) at 4,444.28 crores indicates that 25% of the companies have market capitalizations below this value, representing relatively smaller companies in terms of market value. The third quartile (75th percentile) at 15,232.28 crores shows that 75% of the companies have market capitalizations below this value, indicating the range within which the majority of companies fall.\n",
    "\n",
    "**Sales Quarterly**\n",
    "\n",
    "* The mean quarterly sales for companies in the dataset is approximately 1254.98 crores, while the median is 793.76 crores. This indicates that the distribution of quarterly sales values is slightly right-skewed, with the mean being greater than the median. It suggests that there are some companies with relatively higher sales figures that are pulling the mean upwards.\n",
    "* The standard deviation of 1207.15 crores, suggests that there is a considerable spread in the sales performance of companies and Some companies may have sales figures significantly higher or lower than the average.\n",
    "* The range of quarterly sales is 5861.04 crores. This indicates the extent of variation in sales performance among companies in the dataset, ranging from no sales to significant revenue generation.\n",
    "* TThe first quartile (25th percentile) at 431.21 crores indicates that 25% of the companies have quarterly sales below this value, representing relatively lower sales performers. The third quartile (75th percentile) at 1682.97 crores shows that 75% of the companies have quarterly sales below this value, indicating the range within which the majority of companies fall.\n",
    "\n",
    "**Correlation between Market Capitalization and Sales Quarterly**\n",
    "\n",
    "* The Pearson coefficient of 0.445 suggests a moderate positive linear relationship between market capitalization and quarterly sales. This indicates that as market capitalization increases, there is a tendency for quarterly sales to increase as well, although the relationship is not extremely strong.\n",
    "* With a Spearman coefficient of 0.490, there is a moderate positive relationship between market capitalization and quarterly sales. This implies that as market capitalization increases, there is a tendency for quarterly sales to increase as well, although the relationship may not strictly follow a linear pattern.\n",
    "* Both coefficients indicate a positive relationship between market capitalization and quarterly sales, suggesting that companies with higher market capitalizations tend to have higher quarterly sales. However, the strength of the relationship is moderate rather than strong, indicating that other factors beyond market capitalization also influence sales performance.\n",
    "\n",
    "\n"
   ]
  }
 ],
 "metadata": {
  "colab": {
   "provenance": []
  },
  "kernelspec": {
   "display_name": "Python 3 (ipykernel)",
   "language": "python",
   "name": "python3"
  },
  "language_info": {
   "codemirror_mode": {
    "name": "ipython",
    "version": 3
   },
   "file_extension": ".py",
   "mimetype": "text/x-python",
   "name": "python",
   "nbconvert_exporter": "python",
   "pygments_lexer": "ipython3",
   "version": "3.9.12"
  }
 },
 "nbformat": 4,
 "nbformat_minor": 1
}
